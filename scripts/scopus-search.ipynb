{
 "cells": [
  {
   "cell_type": "markdown",
   "source": [
    "[API documentation](https://dev.elsevier.com/documentation/ScopusSearchAPI.wadl)\n"
   ],
   "metadata": {
    "collapsed": false,
    "pycharm": {
     "name": "#%% md\n"
    }
   }
  },
  {
   "cell_type": "code",
   "execution_count": 3,
   "outputs": [],
   "source": [
    "import requests\n",
    "import pandas as pd\n",
    "import time\n",
    "import pickle\n",
    "import re\n",
    "import json"
   ],
   "metadata": {
    "collapsed": false,
    "pycharm": {
     "name": "#%%\n"
    },
    "ExecuteTime": {
     "end_time": "2023-12-20T21:41:26.426758Z",
     "start_time": "2023-12-20T21:41:26.421564Z"
    }
   }
  },
  {
   "cell_type": "code",
   "execution_count": 5,
   "outputs": [],
   "source": [
    "# to communicate with google spreadsheet...\n",
    "import gspread\n",
    "from gspread_dataframe import get_as_dataframe\n",
    "from gspread_dataframe import set_with_dataframe\n",
    "from google.oauth2 import service_account # based on google-auth library\n",
    "\n",
    "# establish connection with gogglesheets...\n",
    "file_data = json.load(open(\"../../ServiceAccountsKey.json\", \"r\"))\n",
    "credentials = service_account.Credentials.from_service_account_info(file_data)\n",
    "gc = gspread.Client(auth=credentials.with_scopes(['https://spreadsheets.google.com/feeds', 'https://www.googleapis.com/auth/drive']))\n",
    "#qec_gsheet = gc.open_by_url()"
   ],
   "metadata": {
    "collapsed": false,
    "pycharm": {
     "name": "#%%\n"
    },
    "ExecuteTime": {
     "end_time": "2023-12-20T21:41:31.907434Z",
     "start_time": "2023-12-20T21:41:31.897685Z"
    }
   }
  },
  {
   "cell_type": "code",
   "execution_count": 45,
   "outputs": [],
   "source": [
    "apikey = input(\"go to https://dev.elsevier.com/documentation/ScopusSearchAPI.wadl, generate your API key, copy it and insert it here: \")"
   ],
   "metadata": {
    "collapsed": false,
    "pycharm": {
     "name": "#%%\n"
    },
    "ExecuteTime": {
     "end_time": "2023-12-20T22:27:28.581158Z",
     "start_time": "2023-12-20T22:27:27.019085Z"
    }
   }
  },
  {
   "cell_type": "code",
   "execution_count": 46,
   "outputs": [],
   "source": [
    "headers = {\"X-ELS-APIKey\" : apikey}"
   ],
   "metadata": {
    "collapsed": false,
    "pycharm": {
     "name": "#%%\n"
    },
    "ExecuteTime": {
     "end_time": "2023-12-20T22:27:30.113433Z",
     "start_time": "2023-12-20T22:27:30.099037Z"
    }
   }
  },
  {
   "cell_type": "code",
   "execution_count": 66,
   "outputs": [
    {
     "name": "stdout",
     "output_type": "stream",
     "text": [
      "https://api.elsevier.com/content/search/scopus?&query=\n"
     ]
    }
   ],
   "source": [
    "api_address = \"https://api.elsevier.com/content/search/scopus?\"\n",
    "base_url = api_address + \"&query=\"\n",
    "print(base_url)"
   ],
   "metadata": {
    "collapsed": false,
    "pycharm": {
     "name": "#%%\n"
    },
    "ExecuteTime": {
     "end_time": "2023-12-20T22:42:31.050480Z",
     "start_time": "2023-12-20T22:42:31.040102Z"
    }
   }
  },
  {
   "cell_type": "code",
   "execution_count": 67,
   "outputs": [
    {
     "data": {
      "text/plain": "'https://api.elsevier.com/content/search/scopus?&query=religion'"
     },
     "execution_count": 67,
     "metadata": {},
     "output_type": "execute_result"
    }
   ],
   "source": [
    "query = \"religion\"\n",
    "base_url + query"
   ],
   "metadata": {
    "collapsed": false,
    "pycharm": {
     "name": "#%%\n"
    },
    "ExecuteTime": {
     "end_time": "2023-12-20T22:42:32.285858Z",
     "start_time": "2023-12-20T22:42:32.271385Z"
    }
   }
  },
  {
   "cell_type": "code",
   "execution_count": 70,
   "outputs": [
    {
     "data": {
      "text/plain": "'737269'"
     },
     "execution_count": 70,
     "metadata": {},
     "output_type": "execute_result"
    }
   ],
   "source": [
    "requests.get(base_url + query, headers=headers).json()[\"search-results\"][\"opensearch:totalResults\"]"
   ],
   "metadata": {
    "collapsed": false,
    "pycharm": {
     "name": "#%%\n"
    },
    "ExecuteTime": {
     "end_time": "2023-12-20T22:43:16.145634Z",
     "start_time": "2023-12-20T22:43:15.188559Z"
    }
   }
  },
  {
   "cell_type": "code",
   "execution_count": 148,
   "outputs": [
    {
     "data": {
      "text/plain": "'2523'"
     },
     "execution_count": 148,
     "metadata": {},
     "output_type": "execute_result"
    }
   ],
   "source": [
    "#query= \"TITLE-ABS-KEY ( \\\"Paul the Apostle\\\"  OR  \\\"Apostle Paul\\\"  OR  \\\"Paul of Tarsus\\\"  OR  \\\"Pauline liter\\\" )\"\n",
    "query = \"KEY \\\"adventis*\\\"AND DOCTYPE(ar)\"\n",
    "resp = requests.get(base_url + query, headers=headers)\n",
    "resp_json = resp.json()\n",
    "resp_json[\"search-results\"][\"opensearch:totalResults\"]"
   ],
   "metadata": {
    "collapsed": false,
    "pycharm": {
     "name": "#%%\n"
    },
    "ExecuteTime": {
     "end_time": "2023-12-20T23:45:37.797760Z",
     "start_time": "2023-12-20T23:45:36.850853Z"
    }
   }
  },
  {
   "cell_type": "code",
   "execution_count": 149,
   "outputs": [],
   "source": [
    "items = resp_json[\"search-results\"][\"opensearch:totalResults\"]\n",
    "pagelength = resp_json[\"search-results\"][\"opensearch:itemsPerPage\"]\n",
    "entries = resp_json[\"search-results\"][\"entry\"]"
   ],
   "metadata": {
    "collapsed": false,
    "pycharm": {
     "name": "#%%\n"
    },
    "ExecuteTime": {
     "end_time": "2023-12-20T23:45:39.930607Z",
     "start_time": "2023-12-20T23:45:39.923112Z"
    }
   }
  },
  {
   "cell_type": "code",
   "execution_count": 150,
   "outputs": [
    {
     "name": "stdout",
     "output_type": "stream",
     "text": [
      "[0, 25, 50, 75, 100, 125, 150, 175, 200, 225, 250, 275, 300, 325, 350, 375, 400, 425, 450, 475, 500, 525, 550, 575, 600, 625, 650, 675, 700, 725, 750, 775, 800, 825, 850, 875, 900, 925, 950, 975, 1000, 1025, 1050, 1075, 1100, 1125, 1150, 1175, 1200, 1225, 1250, 1275, 1300, 1325, 1350, 1375, 1400, 1425, 1450, 1475, 1500, 1525, 1550, 1575, 1600, 1625, 1650, 1675, 1700, 1725, 1750, 1775, 1800, 1825, 1850, 1875, 1900, 1925, 1950, 1975, 2000, 2025, 2050, 2075, 2100, 2125, 2150, 2175, 2200, 2225, 2250, 2275, 2300, 2325, 2350, 2375, 2400, 2425, 2450, 2475, 2500]\n"
     ]
    }
   ],
   "source": [
    "indices = list(range(0, int(items), int(pagelength)))\n",
    "print(indices)"
   ],
   "metadata": {
    "collapsed": false,
    "pycharm": {
     "name": "#%%\n"
    },
    "ExecuteTime": {
     "end_time": "2023-12-20T23:45:40.348470Z",
     "start_time": "2023-12-20T23:45:40.341464Z"
    }
   }
  },
  {
   "cell_type": "code",
   "execution_count": 151,
   "outputs": [
    {
     "data": {
      "text/plain": "'https://api.elsevier.com/content/search/scopus?&query=KEY \"adventis*\"AND DOCTYPE(ar)&start=150&view=complete'"
     },
     "execution_count": 151,
     "metadata": {},
     "output_type": "execute_result"
    }
   ],
   "source": [
    "base_url + query + \"&start={0}\".format(str(i))+ \"&view=complete\""
   ],
   "metadata": {
    "collapsed": false,
    "ExecuteTime": {
     "end_time": "2023-12-20T23:45:40.714913Z",
     "start_time": "2023-12-20T23:45:40.710352Z"
    }
   }
  },
  {
   "cell_type": "code",
   "execution_count": 152,
   "outputs": [],
   "source": [
    "url = 'https://api.elsevier.com/content/search/scopus'\n",
    "headers = {\n",
    "    'X-ELS-APIKey': apikey,\n",
    "    'Accept': 'application/json'\n",
    "}\n",
    "\n",
    "params = {\n",
    "    'query': 'KEY \"early christian*\"',\n",
    "    'start': 0,\n",
    "    'view': 'complete'\n",
    "}"
   ],
   "metadata": {
    "collapsed": false,
    "ExecuteTime": {
     "end_time": "2023-12-20T23:45:41.001968Z",
     "start_time": "2023-12-20T23:45:40.997346Z"
    }
   }
  },
  {
   "cell_type": "code",
   "execution_count": 153,
   "outputs": [
    {
     "data": {
      "text/plain": "<Response [200]>"
     },
     "execution_count": 153,
     "metadata": {},
     "output_type": "execute_result"
    }
   ],
   "source": [
    "resp = requests.get(url, headers=headers, params=params)\n",
    "resp"
   ],
   "metadata": {
    "collapsed": false,
    "ExecuteTime": {
     "end_time": "2023-12-20T23:45:42.292868Z",
     "start_time": "2023-12-20T23:45:41.346431Z"
    }
   }
  },
  {
   "cell_type": "code",
   "execution_count": 154,
   "outputs": [
    {
     "name": "stdout",
     "output_type": "stream",
     "text": [
      "0 <Response [200]>\n",
      "25 <Response [200]>\n",
      "50 <Response [200]>\n",
      "75 <Response [200]>\n",
      "100 <Response [200]>\n",
      "125 <Response [200]>\n",
      "150 <Response [200]>\n",
      "175 <Response [200]>\n",
      "200 <Response [200]>\n",
      "225 <Response [200]>\n",
      "250 <Response [200]>\n",
      "275 <Response [200]>\n",
      "300 <Response [200]>\n",
      "325 <Response [200]>\n",
      "350 <Response [200]>\n",
      "375 <Response [200]>\n",
      "400 <Response [200]>\n",
      "425 <Response [200]>\n",
      "450 <Response [200]>\n",
      "475 <Response [200]>\n",
      "500 <Response [200]>\n",
      "525 <Response [200]>\n",
      "550 <Response [200]>\n",
      "575 <Response [200]>\n",
      "600 <Response [200]>\n",
      "625 <Response [200]>\n",
      "650 <Response [200]>\n",
      "675 <Response [200]>\n",
      "700 <Response [200]>\n",
      "725 <Response [200]>\n",
      "750 <Response [200]>\n",
      "775 <Response [200]>\n",
      "800 <Response [200]>\n",
      "825 <Response [200]>\n",
      "850 <Response [200]>\n",
      "875 <Response [200]>\n",
      "900 <Response [200]>\n",
      "925 <Response [200]>\n",
      "950 <Response [200]>\n",
      "975 <Response [200]>\n",
      "1000 <Response [200]>\n",
      "1025 <Response [200]>\n",
      "1050 <Response [200]>\n",
      "1075 <Response [200]>\n",
      "1100 <Response [200]>\n",
      "1125 <Response [200]>\n",
      "1150 <Response [200]>\n",
      "1175 <Response [200]>\n",
      "1200 <Response [200]>\n",
      "1225 <Response [200]>\n",
      "1250 <Response [200]>\n",
      "1275 <Response [200]>\n",
      "1300 <Response [200]>\n",
      "1325 <Response [200]>\n",
      "1350 <Response [200]>\n",
      "1375 <Response [200]>\n",
      "1400 <Response [200]>\n",
      "1425 <Response [200]>\n",
      "1450 <Response [200]>\n",
      "1475 <Response [200]>\n",
      "1500 <Response [200]>\n",
      "1525 <Response [200]>\n",
      "1550 <Response [200]>\n",
      "1575 <Response [200]>\n",
      "1600 <Response [200]>\n",
      "1625 <Response [200]>\n",
      "1650 <Response [200]>\n",
      "1675 <Response [200]>\n",
      "1700 <Response [200]>\n",
      "1725 <Response [200]>\n",
      "1750 <Response [200]>\n",
      "1775 <Response [200]>\n",
      "1800 <Response [200]>\n",
      "1825 <Response [200]>\n",
      "1850 <Response [200]>\n",
      "1875 <Response [200]>\n",
      "1900 <Response [200]>\n",
      "1925 <Response [200]>\n",
      "1950 <Response [200]>\n",
      "1975 <Response [200]>\n",
      "2000 <Response [200]>\n",
      "2025 <Response [200]>\n",
      "2050 <Response [200]>\n",
      "2075 <Response [200]>\n",
      "2100 <Response [200]>\n",
      "2125 <Response [200]>\n",
      "2150 <Response [200]>\n",
      "2175 <Response [200]>\n",
      "2200 <Response [200]>\n",
      "2225 <Response [200]>\n",
      "2250 <Response [200]>\n",
      "2275 <Response [200]>\n",
      "2300 <Response [200]>\n",
      "2325 <Response [200]>\n",
      "2350 <Response [200]>\n",
      "2375 <Response [200]>\n",
      "2400 <Response [200]>\n",
      "2425 <Response [200]>\n",
      "2450 <Response [200]>\n",
      "2475 <Response [200]>\n",
      "2500 <Response [200]>\n",
      "CPU times: user 2.64 s, sys: 293 ms, total: 2.93 s\n",
      "Wall time: 1min 46s\n"
     ]
    }
   ],
   "source": [
    "%%time\n",
    "entries = []\n",
    "for i in indices:\n",
    "    resp = requests.get(base_url + query + \"&start={0}\".format(str(i)) + \"&view=complete\", headers=headers)\n",
    "    print(i, resp)\n",
    "    resp_json = resp.json()\n",
    "    entry = resp_json[\"search-results\"][\"entry\"]\n",
    "    entries.extend(entry)"
   ],
   "metadata": {
    "collapsed": false,
    "pycharm": {
     "name": "#%%\n"
    },
    "ExecuteTime": {
     "end_time": "2023-12-20T23:47:28.724172Z",
     "start_time": "2023-12-20T23:45:42.292391Z"
    }
   }
  },
  {
   "cell_type": "code",
   "execution_count": 155,
   "outputs": [],
   "source": [
    "pickle.dump(entries, open(\"../data/entries_adventis.pkl\", \"wb\"))"
   ],
   "metadata": {
    "collapsed": false,
    "pycharm": {
     "name": "#%%\n"
    },
    "ExecuteTime": {
     "end_time": "2023-12-20T23:47:31.065671Z",
     "start_time": "2023-12-20T23:47:30.984351Z"
    }
   }
  },
  {
   "cell_type": "markdown",
   "source": [
    "# working with raw entries"
   ],
   "metadata": {
    "collapsed": false,
    "pycharm": {
     "name": "#%% md\n"
    }
   }
  },
  {
   "cell_type": "code",
   "execution_count": 156,
   "outputs": [],
   "source": [
    "#entries = pickle.load(open(\"../data/entries_v1.pkl\", \"rb\"))"
   ],
   "metadata": {
    "collapsed": false,
    "pycharm": {
     "name": "#%%\n"
    },
    "ExecuteTime": {
     "end_time": "2023-12-20T23:47:33.216527Z",
     "start_time": "2023-12-20T23:47:33.213821Z"
    }
   }
  },
  {
   "cell_type": "code",
   "execution_count": 157,
   "outputs": [],
   "source": [
    "entries_df = pd.DataFrame(entries)"
   ],
   "metadata": {
    "collapsed": false,
    "pycharm": {
     "name": "#%%\n"
    },
    "ExecuteTime": {
     "end_time": "2023-12-20T23:47:34.548670Z",
     "start_time": "2023-12-20T23:47:34.530675Z"
    }
   }
  },
  {
   "cell_type": "code",
   "execution_count": 158,
   "outputs": [
    {
     "data": {
      "text/plain": "Index(['@_fa', 'link', 'prism:url', 'dc:identifier', 'eid', 'dc:title',\n       'dc:creator', 'prism:publicationName', 'prism:issn', 'prism:eIssn',\n       'prism:volume', 'prism:issueIdentifier', 'prism:pageRange',\n       'prism:coverDate', 'prism:coverDisplayDate', 'prism:doi',\n       'dc:description', 'citedby-count', 'affiliation', 'pubmed-id',\n       'prism:aggregationType', 'subtype', 'subtypeDescription',\n       'author-count', 'author', 'authkeywords', 'source-id', 'fund-acr',\n       'fund-no', 'fund-sponsor', 'openaccess', 'openaccessFlag', 'freetoread',\n       'freetoreadLabel', 'pii', 'article-number', 'prism:isbn'],\n      dtype='object')"
     },
     "execution_count": 158,
     "metadata": {},
     "output_type": "execute_result"
    }
   ],
   "source": [
    "entries_df.columns"
   ],
   "metadata": {
    "collapsed": false,
    "ExecuteTime": {
     "end_time": "2023-12-20T23:47:34.964177Z",
     "start_time": "2023-12-20T23:47:34.952473Z"
    }
   }
  },
  {
   "cell_type": "code",
   "execution_count": 159,
   "outputs": [
    {
     "data": {
      "text/plain": "      @_fa                                               link  \\\n2495  true  [{'@_fa': 'true', '@ref': 'self', '@href': 'ht...   \n2496  true  [{'@_fa': 'true', '@ref': 'self', '@href': 'ht...   \n2497  true  [{'@_fa': 'true', '@ref': 'self', '@href': 'ht...   \n2498  true  [{'@_fa': 'true', '@ref': 'self', '@href': 'ht...   \n2499  true  [{'@_fa': 'true', '@ref': 'self', '@href': 'ht...   \n2500  true  [{'@_fa': 'true', '@ref': 'self', '@href': 'ht...   \n2501  true  [{'@_fa': 'true', '@ref': 'self', '@href': 'ht...   \n2502  true  [{'@_fa': 'true', '@ref': 'self', '@href': 'ht...   \n2503  true  [{'@_fa': 'true', '@ref': 'self', '@href': 'ht...   \n2504  true  [{'@_fa': 'true', '@ref': 'self', '@href': 'ht...   \n2505  true  [{'@_fa': 'true', '@ref': 'self', '@href': 'ht...   \n2506  true  [{'@_fa': 'true', '@ref': 'self', '@href': 'ht...   \n2507  true  [{'@_fa': 'true', '@ref': 'self', '@href': 'ht...   \n2508  true  [{'@_fa': 'true', '@ref': 'self', '@href': 'ht...   \n2509  true  [{'@_fa': 'true', '@ref': 'self', '@href': 'ht...   \n2510  true  [{'@_fa': 'true', '@ref': 'self', '@href': 'ht...   \n2511  true  [{'@_fa': 'true', '@ref': 'self', '@href': 'ht...   \n2512  true  [{'@_fa': 'true', '@ref': 'self', '@href': 'ht...   \n2513  true  [{'@_fa': 'true', '@ref': 'self', '@href': 'ht...   \n2514  true  [{'@_fa': 'true', '@ref': 'self', '@href': 'ht...   \n2515  true  [{'@_fa': 'true', '@ref': 'self', '@href': 'ht...   \n2516  true  [{'@_fa': 'true', '@ref': 'self', '@href': 'ht...   \n2517  true  [{'@_fa': 'true', '@ref': 'self', '@href': 'ht...   \n2518  true  [{'@_fa': 'true', '@ref': 'self', '@href': 'ht...   \n2519  true  [{'@_fa': 'true', '@ref': 'self', '@href': 'ht...   \n2520  true  [{'@_fa': 'true', '@ref': 'self', '@href': 'ht...   \n2521  true  [{'@_fa': 'true', '@ref': 'self', '@href': 'ht...   \n2522  true  [{'@_fa': 'true', '@ref': 'self', '@href': 'ht...   \n2523  true  [{'@_fa': 'true', '@ref': 'self', '@href': 'ht...   \n2524  true  [{'@_fa': 'true', '@ref': 'self', '@href': 'ht...   \n\n                                              prism:url  \\\n2495  https://api.elsevier.com/content/abstract/scop...   \n2496  https://api.elsevier.com/content/abstract/scop...   \n2497  https://api.elsevier.com/content/abstract/scop...   \n2498  https://api.elsevier.com/content/abstract/scop...   \n2499  https://api.elsevier.com/content/abstract/scop...   \n2500  https://api.elsevier.com/content/abstract/scop...   \n2501  https://api.elsevier.com/content/abstract/scop...   \n2502  https://api.elsevier.com/content/abstract/scop...   \n2503  https://api.elsevier.com/content/abstract/scop...   \n2504  https://api.elsevier.com/content/abstract/scop...   \n2505  https://api.elsevier.com/content/abstract/scop...   \n2506  https://api.elsevier.com/content/abstract/scop...   \n2507  https://api.elsevier.com/content/abstract/scop...   \n2508  https://api.elsevier.com/content/abstract/scop...   \n2509  https://api.elsevier.com/content/abstract/scop...   \n2510  https://api.elsevier.com/content/abstract/scop...   \n2511  https://api.elsevier.com/content/abstract/scop...   \n2512  https://api.elsevier.com/content/abstract/scop...   \n2513  https://api.elsevier.com/content/abstract/scop...   \n2514  https://api.elsevier.com/content/abstract/scop...   \n2515  https://api.elsevier.com/content/abstract/scop...   \n2516  https://api.elsevier.com/content/abstract/scop...   \n2517  https://api.elsevier.com/content/abstract/scop...   \n2518  https://api.elsevier.com/content/abstract/scop...   \n2519  https://api.elsevier.com/content/abstract/scop...   \n2520  https://api.elsevier.com/content/abstract/scop...   \n2521  https://api.elsevier.com/content/abstract/scop...   \n2522  https://api.elsevier.com/content/abstract/scop...   \n2523  https://api.elsevier.com/content/abstract/scop...   \n2524  https://api.elsevier.com/content/abstract/scop...   \n\n              dc:identifier                 eid  \\\n2495  SCOPUS_ID:10444261976  2-s2.0-10444261976   \n2496  SCOPUS_ID:12344301273  2-s2.0-12344301273   \n2497  SCOPUS_ID:10844234765  2-s2.0-10844234765   \n2498   SCOPUS_ID:5444258710   2-s2.0-5444258710   \n2499   SCOPUS_ID:6344249103   2-s2.0-6344249103   \n2500  SCOPUS_ID:19944389541  2-s2.0-19944389541   \n2501  SCOPUS_ID:13944272308  2-s2.0-13944272308   \n2502  SCOPUS_ID:85009644397  2-s2.0-85009644397   \n2503  SCOPUS_ID:76349090690  2-s2.0-76349090690   \n2504  SCOPUS_ID:70549087634  2-s2.0-70549087634   \n2505  SCOPUS_ID:33646699579  2-s2.0-33646699579   \n2506  SCOPUS_ID:33644834341  2-s2.0-33644834341   \n2507  SCOPUS_ID:23944450185  2-s2.0-23944450185   \n2508  SCOPUS_ID:21944452085  2-s2.0-21944452085   \n2509  SCOPUS_ID:21444455990  2-s2.0-21444455990   \n2510  SCOPUS_ID:19444376550  2-s2.0-19444376550   \n2511  SCOPUS_ID:18844448217  2-s2.0-18844448217   \n2512  SCOPUS_ID:18844441172  2-s2.0-18844441172   \n2513  SCOPUS_ID:15944397278  2-s2.0-15944397278   \n2514  SCOPUS_ID:14744299248  2-s2.0-14744299248   \n2515  SCOPUS_ID:11144251591  2-s2.0-11144251591   \n2516  SCOPUS_ID:39749160479  2-s2.0-39749160479   \n2517  SCOPUS_ID:13544277038  2-s2.0-13544277038   \n2518  SCOPUS_ID:11844304197  2-s2.0-11844304197   \n2519  SCOPUS_ID:11844298484  2-s2.0-11844298484   \n2520  SCOPUS_ID:10444261976  2-s2.0-10444261976   \n2521  SCOPUS_ID:12344301273  2-s2.0-12344301273   \n2522  SCOPUS_ID:10844234765  2-s2.0-10844234765   \n2523   SCOPUS_ID:5444258710   2-s2.0-5444258710   \n2524   SCOPUS_ID:6344249103   2-s2.0-6344249103   \n\n                                               dc:title        dc:creator  \\\n2495  Dietary risk factors for the development of in...       Pattison D.   \n2496  The role of Vitamin D <inf>3</inf> metabolism ...          Lou Y.R.   \n2497  A prospective study of diet and prostate cance...        Allen N.E.   \n2498  Health benefits of soy isoflavonoids and strat...          McCue P.   \n2499  The UK Women's Cohort Study: Comparison of veg...           Cade J.   \n2500  Smad3 mediates TGF-β1 induction of VEGF produc...      Kobayashi T.   \n2501  Veganism and its relationship with insulin res...         Goff L.M.   \n2502  Refocusing on the learning in \"integration of ...     Lawrence T.A.   \n2503  Preoperative body mass index and outcomes of g...         Ogoshi K.   \n2504  Position of the American Dietetic Association ...               NaN   \n2505  A Low Fat Diet Rich in Fruits and Vegetables M...          Sunny L.   \n2506  The comparison of the effect of cigarette and ...          Kim M.C.   \n2507  Cholesterol lowering effects of nuts compared ...       Chisholm A.   \n2508  Risk of overweight and obesity among semiveget...        Newby P.K.   \n2509  Electrical muscle stimulation acutely mimics e...        Poole R.B.   \n2510  Iodine-deficient vegetarians: A hypothetical p...         Fields C.   \n2511  Selective exposure reporting and Medline index...        Wieland S.   \n2512  Nutritional status and lipid profile of postme...    De Oliveira A.   \n2513  Consumption of fruit and vegetables and cardio...        Dauchet L.   \n2514  A comparison of first event coronary heart dis...       Fraser G.E.   \n2515  Effect of diabetes and hypertension on obesity...     Livingston E.   \n2516  Soy and the prevention of lifestyle-related di...           Zhou J.   \n2517  Evaluation of a nutritional intervention to re...     Martínez O S.   \n2518      Improved Diet Quality with Peanut Consumption        Griel A.E.   \n2519  A Review of Scientific Research and Recommenda...  Kritchevsky S.B.   \n2520  Dietary risk factors for the development of in...       Pattison D.   \n2521  The role of Vitamin D <inf>3</inf> metabolism ...          Lou Y.R.   \n2522  A prospective study of diet and prostate cance...        Allen N.E.   \n2523  Health benefits of soy isoflavonoids and strat...          McCue P.   \n2524  The UK Women's Cohort Study: Comparison of veg...           Cade J.   \n\n                                  prism:publicationName prism:issn  \\\n2495                           Arthritis and Rheumatism   00043591   \n2496  Journal of Steroid Biochemistry and Molecular ...   09600760   \n2497                          Cancer Causes and Control   09575243   \n2498     Critical Reviews in Food Science and Nutrition   10408398   \n2499                            Public Health Nutrition   13689800   \n2500  Biochemical and Biophysical Research Communica...   0006291X   \n2501             European Journal of Clinical Nutrition   09543007   \n2502         Journal of Research on Christian Education   10656219   \n2503              Annals of Cancer Research and Therapy   13446835   \n2504                                 Medicina Naturista   15763080   \n2505         Asian Pacific Journal of Cancer Prevention   15137368   \n2506              Tuberculosis and Respiratory Diseases   17383536   \n2507  Nutrition, Metabolism and Cardiovascular Diseases   09394753   \n2508             American Journal of Clinical Nutrition   00029165   \n2509                   Diabetes, Obesity and Metabolism   14628902   \n2510             Regulatory Toxicology and Pharmacology   02732300   \n2511                   Journal of Clinical Epidemiology   08954356   \n2512                Arquivos Brasileiros de Cardiologia   0066782X   \n2513              Cahiers de Nutrition et de Dietetique   00079960   \n2514             Journal of Nutrition, Health and Aging   12797707   \n2515                                            Surgery   00396060   \n2516  Clinical and Experimental Pharmacology and Phy...   03051870   \n2517                            Revista Medica de Chile   00349887   \n2518       Journal of the American College of Nutrition   07315724   \n2519       Journal of the American College of Nutrition   07315724   \n2520                           Arthritis and Rheumatism   00043591   \n2521  Journal of Steroid Biochemistry and Molecular ...   09600760   \n2522                          Cancer Causes and Control   09575243   \n2523     Critical Reviews in Food Science and Nutrition   10408398   \n2524                            Public Health Nutrition   13689800   \n\n     prism:eIssn  ... fund-acr      fund-no  \\\n2495         NaN  ...      NaN    undefined   \n2496         NaN  ...      NaN    undefined   \n2497         NaN  ...      NaN        14-78   \n2498         NaN  ...      NaN    undefined   \n2499         NaN  ...     WCRF    undefined   \n2500         NaN  ...      NIH  R01HL064088   \n2501         NaN  ...      GSK    undefined   \n2502    19344945  ...      NaN    undefined   \n2503         NaN  ...      NaN    undefined   \n2504    2386463X  ...      NaN    undefined   \n2505    2476762X  ...      NaN    undefined   \n2506         NaN  ...      NaN    undefined   \n2507         NaN  ...      HRC    undefined   \n2508         NaN  ...      NaN    undefined   \n2509         NaN  ...      NaN    undefined   \n2510         NaN  ...      NaN    undefined   \n2511         NaN  ...      NaN    undefined   \n2512         NaN  ...      NaN    undefined   \n2513         NaN  ...      NaN    undefined   \n2514         NaN  ...    NHLBI  R01HL021906   \n2515         NaN  ...      NaN    undefined   \n2516    14401681  ...      NaN    undefined   \n2517         NaN  ...      NaN    undefined   \n2518    15411087  ...      NaN    undefined   \n2519    15411087  ...      NaN    undefined   \n2520         NaN  ...      NaN    undefined   \n2521         NaN  ...      NaN    undefined   \n2522         NaN  ...      NaN        14-78   \n2523         NaN  ...      NaN    undefined   \n2524         NaN  ...     WCRF    undefined   \n\n                                   fund-sponsor openaccess openaccessFlag  \\\n2495                                        NaN          0          False   \n2496                                        NaN          0          False   \n2497               National Academy of Sciences          0          False   \n2498                                        NaN          0          False   \n2499                 World Cancer Research Fund          1           True   \n2500              National Institutes of Health          0          False   \n2501                            GlaxoSmithKline          0          False   \n2502                                        NaN          0          False   \n2503                                        NaN          1           True   \n2504                                        NaN          0          False   \n2505                                        NaN          0          False   \n2506                                        NaN          1           True   \n2507                        University of Otago          0          False   \n2508                                        NaN          1           True   \n2509                                        NaN          0          False   \n2510                                        NaN          0          False   \n2511                                        NaN          0          False   \n2512                                        NaN          1           True   \n2513                                        NaN          0          False   \n2514  National Heart, Lung, and Blood Institute          0          False   \n2515                                        NaN          0          False   \n2516                                        NaN          0          False   \n2517                                        NaN          0          False   \n2518                                        NaN          0          False   \n2519                                        NaN          0          False   \n2520                                        NaN          0          False   \n2521                                        NaN          0          False   \n2522               National Academy of Sciences          0          False   \n2523                                        NaN          0          False   \n2524                 World Cancer Research Fund          1           True   \n\n                                             freetoread  \\\n2495                                                NaN   \n2496                                                NaN   \n2497                                                NaN   \n2498                                                NaN   \n2499  {'value': [{'$': 'all'}, {'$': 'publisherfree2...   \n2500                                                NaN   \n2501                                                NaN   \n2502                                                NaN   \n2503  {'value': [{'$': 'all'}, {'$': 'publisherfree2...   \n2504                                                NaN   \n2505                                                NaN   \n2506  {'value': [{'$': 'all'}, {'$': 'publisherfree2...   \n2507                                                NaN   \n2508  {'value': [{'$': 'all'}, {'$': 'publisherfree2...   \n2509                                                NaN   \n2510                                                NaN   \n2511                                                NaN   \n2512  {'value': [{'$': 'all'}, {'$': 'publisherfullg...   \n2513                                                NaN   \n2514                                                NaN   \n2515                                                NaN   \n2516                                                NaN   \n2517                                                NaN   \n2518                                                NaN   \n2519                                                NaN   \n2520                                                NaN   \n2521                                                NaN   \n2522                                                NaN   \n2523                                                NaN   \n2524  {'value': [{'$': 'all'}, {'$': 'publisherfree2...   \n\n                                        freetoreadLabel                pii  \\\n2495                                                NaN                NaN   \n2496                                                NaN  S0960076004003723   \n2497                                                NaN                NaN   \n2498                                                NaN                NaN   \n2499  {'value': [{'$': 'All Open Access'}, {'$': 'Br...                NaN   \n2500                                                NaN  S0006291X04028177   \n2501                                                NaN                NaN   \n2502                                                NaN                NaN   \n2503  {'value': [{'$': 'All Open Access'}, {'$': 'Br...                NaN   \n2504                                                NaN                NaN   \n2505                                                NaN                NaN   \n2506  {'value': [{'$': 'All Open Access'}, {'$': 'Br...                NaN   \n2507                                                NaN  S0939475305000682   \n2508  {'value': [{'$': 'All Open Access'}, {'$': 'Br...                NaN   \n2509                                                NaN                NaN   \n2510                                                NaN  S0273230005000188   \n2511                                                NaN  S0895435604003294   \n2512  {'value': [{'$': 'All Open Access'}, {'$': 'Go...                NaN   \n2513                                                NaN  S000799600580464X   \n2514                                                NaN                NaN   \n2515                                                NaN  S0039606004003228   \n2516                                                NaN                NaN   \n2517                                                NaN                NaN   \n2518                                                NaN                NaN   \n2519                                                NaN                NaN   \n2520                                                NaN                NaN   \n2521                                                NaN  S0960076004003723   \n2522                                                NaN                NaN   \n2523                                                NaN                NaN   \n2524  {'value': [{'$': 'All Open Access'}, {'$': 'Br...                NaN   \n\n     article-number prism:isbn  \n2495            NaN        NaN  \n2496            NaN        NaN  \n2497            NaN        NaN  \n2498            NaN        NaN  \n2499            NaN        NaN  \n2500            NaN        NaN  \n2501            NaN        NaN  \n2502            NaN        NaN  \n2503            NaN        NaN  \n2504            NaN        NaN  \n2505            NaN        NaN  \n2506            NaN        NaN  \n2507            NaN        NaN  \n2508            NaN        NaN  \n2509            NaN        NaN  \n2510            NaN        NaN  \n2511            NaN        NaN  \n2512            NaN        NaN  \n2513            NaN        NaN  \n2514            NaN        NaN  \n2515            NaN        NaN  \n2516            NaN        NaN  \n2517            NaN        NaN  \n2518            NaN        NaN  \n2519            NaN        NaN  \n2520            NaN        NaN  \n2521            NaN        NaN  \n2522            NaN        NaN  \n2523            NaN        NaN  \n2524            NaN        NaN  \n\n[30 rows x 37 columns]",
      "text/html": "<div>\n<style scoped>\n    .dataframe tbody tr th:only-of-type {\n        vertical-align: middle;\n    }\n\n    .dataframe tbody tr th {\n        vertical-align: top;\n    }\n\n    .dataframe thead th {\n        text-align: right;\n    }\n</style>\n<table border=\"1\" class=\"dataframe\">\n  <thead>\n    <tr style=\"text-align: right;\">\n      <th></th>\n      <th>@_fa</th>\n      <th>link</th>\n      <th>prism:url</th>\n      <th>dc:identifier</th>\n      <th>eid</th>\n      <th>dc:title</th>\n      <th>dc:creator</th>\n      <th>prism:publicationName</th>\n      <th>prism:issn</th>\n      <th>prism:eIssn</th>\n      <th>...</th>\n      <th>fund-acr</th>\n      <th>fund-no</th>\n      <th>fund-sponsor</th>\n      <th>openaccess</th>\n      <th>openaccessFlag</th>\n      <th>freetoread</th>\n      <th>freetoreadLabel</th>\n      <th>pii</th>\n      <th>article-number</th>\n      <th>prism:isbn</th>\n    </tr>\n  </thead>\n  <tbody>\n    <tr>\n      <th>2495</th>\n      <td>true</td>\n      <td>[{'@_fa': 'true', '@ref': 'self', '@href': 'ht...</td>\n      <td>https://api.elsevier.com/content/abstract/scop...</td>\n      <td>SCOPUS_ID:10444261976</td>\n      <td>2-s2.0-10444261976</td>\n      <td>Dietary risk factors for the development of in...</td>\n      <td>Pattison D.</td>\n      <td>Arthritis and Rheumatism</td>\n      <td>00043591</td>\n      <td>NaN</td>\n      <td>...</td>\n      <td>NaN</td>\n      <td>undefined</td>\n      <td>NaN</td>\n      <td>0</td>\n      <td>False</td>\n      <td>NaN</td>\n      <td>NaN</td>\n      <td>NaN</td>\n      <td>NaN</td>\n      <td>NaN</td>\n    </tr>\n    <tr>\n      <th>2496</th>\n      <td>true</td>\n      <td>[{'@_fa': 'true', '@ref': 'self', '@href': 'ht...</td>\n      <td>https://api.elsevier.com/content/abstract/scop...</td>\n      <td>SCOPUS_ID:12344301273</td>\n      <td>2-s2.0-12344301273</td>\n      <td>The role of Vitamin D &lt;inf&gt;3&lt;/inf&gt; metabolism ...</td>\n      <td>Lou Y.R.</td>\n      <td>Journal of Steroid Biochemistry and Molecular ...</td>\n      <td>09600760</td>\n      <td>NaN</td>\n      <td>...</td>\n      <td>NaN</td>\n      <td>undefined</td>\n      <td>NaN</td>\n      <td>0</td>\n      <td>False</td>\n      <td>NaN</td>\n      <td>NaN</td>\n      <td>S0960076004003723</td>\n      <td>NaN</td>\n      <td>NaN</td>\n    </tr>\n    <tr>\n      <th>2497</th>\n      <td>true</td>\n      <td>[{'@_fa': 'true', '@ref': 'self', '@href': 'ht...</td>\n      <td>https://api.elsevier.com/content/abstract/scop...</td>\n      <td>SCOPUS_ID:10844234765</td>\n      <td>2-s2.0-10844234765</td>\n      <td>A prospective study of diet and prostate cance...</td>\n      <td>Allen N.E.</td>\n      <td>Cancer Causes and Control</td>\n      <td>09575243</td>\n      <td>NaN</td>\n      <td>...</td>\n      <td>NaN</td>\n      <td>14-78</td>\n      <td>National Academy of Sciences</td>\n      <td>0</td>\n      <td>False</td>\n      <td>NaN</td>\n      <td>NaN</td>\n      <td>NaN</td>\n      <td>NaN</td>\n      <td>NaN</td>\n    </tr>\n    <tr>\n      <th>2498</th>\n      <td>true</td>\n      <td>[{'@_fa': 'true', '@ref': 'self', '@href': 'ht...</td>\n      <td>https://api.elsevier.com/content/abstract/scop...</td>\n      <td>SCOPUS_ID:5444258710</td>\n      <td>2-s2.0-5444258710</td>\n      <td>Health benefits of soy isoflavonoids and strat...</td>\n      <td>McCue P.</td>\n      <td>Critical Reviews in Food Science and Nutrition</td>\n      <td>10408398</td>\n      <td>NaN</td>\n      <td>...</td>\n      <td>NaN</td>\n      <td>undefined</td>\n      <td>NaN</td>\n      <td>0</td>\n      <td>False</td>\n      <td>NaN</td>\n      <td>NaN</td>\n      <td>NaN</td>\n      <td>NaN</td>\n      <td>NaN</td>\n    </tr>\n    <tr>\n      <th>2499</th>\n      <td>true</td>\n      <td>[{'@_fa': 'true', '@ref': 'self', '@href': 'ht...</td>\n      <td>https://api.elsevier.com/content/abstract/scop...</td>\n      <td>SCOPUS_ID:6344249103</td>\n      <td>2-s2.0-6344249103</td>\n      <td>The UK Women's Cohort Study: Comparison of veg...</td>\n      <td>Cade J.</td>\n      <td>Public Health Nutrition</td>\n      <td>13689800</td>\n      <td>NaN</td>\n      <td>...</td>\n      <td>WCRF</td>\n      <td>undefined</td>\n      <td>World Cancer Research Fund</td>\n      <td>1</td>\n      <td>True</td>\n      <td>{'value': [{'$': 'all'}, {'$': 'publisherfree2...</td>\n      <td>{'value': [{'$': 'All Open Access'}, {'$': 'Br...</td>\n      <td>NaN</td>\n      <td>NaN</td>\n      <td>NaN</td>\n    </tr>\n    <tr>\n      <th>2500</th>\n      <td>true</td>\n      <td>[{'@_fa': 'true', '@ref': 'self', '@href': 'ht...</td>\n      <td>https://api.elsevier.com/content/abstract/scop...</td>\n      <td>SCOPUS_ID:19944389541</td>\n      <td>2-s2.0-19944389541</td>\n      <td>Smad3 mediates TGF-β1 induction of VEGF produc...</td>\n      <td>Kobayashi T.</td>\n      <td>Biochemical and Biophysical Research Communica...</td>\n      <td>0006291X</td>\n      <td>NaN</td>\n      <td>...</td>\n      <td>NIH</td>\n      <td>R01HL064088</td>\n      <td>National Institutes of Health</td>\n      <td>0</td>\n      <td>False</td>\n      <td>NaN</td>\n      <td>NaN</td>\n      <td>S0006291X04028177</td>\n      <td>NaN</td>\n      <td>NaN</td>\n    </tr>\n    <tr>\n      <th>2501</th>\n      <td>true</td>\n      <td>[{'@_fa': 'true', '@ref': 'self', '@href': 'ht...</td>\n      <td>https://api.elsevier.com/content/abstract/scop...</td>\n      <td>SCOPUS_ID:13944272308</td>\n      <td>2-s2.0-13944272308</td>\n      <td>Veganism and its relationship with insulin res...</td>\n      <td>Goff L.M.</td>\n      <td>European Journal of Clinical Nutrition</td>\n      <td>09543007</td>\n      <td>NaN</td>\n      <td>...</td>\n      <td>GSK</td>\n      <td>undefined</td>\n      <td>GlaxoSmithKline</td>\n      <td>0</td>\n      <td>False</td>\n      <td>NaN</td>\n      <td>NaN</td>\n      <td>NaN</td>\n      <td>NaN</td>\n      <td>NaN</td>\n    </tr>\n    <tr>\n      <th>2502</th>\n      <td>true</td>\n      <td>[{'@_fa': 'true', '@ref': 'self', '@href': 'ht...</td>\n      <td>https://api.elsevier.com/content/abstract/scop...</td>\n      <td>SCOPUS_ID:85009644397</td>\n      <td>2-s2.0-85009644397</td>\n      <td>Refocusing on the learning in \"integration of ...</td>\n      <td>Lawrence T.A.</td>\n      <td>Journal of Research on Christian Education</td>\n      <td>10656219</td>\n      <td>19344945</td>\n      <td>...</td>\n      <td>NaN</td>\n      <td>undefined</td>\n      <td>NaN</td>\n      <td>0</td>\n      <td>False</td>\n      <td>NaN</td>\n      <td>NaN</td>\n      <td>NaN</td>\n      <td>NaN</td>\n      <td>NaN</td>\n    </tr>\n    <tr>\n      <th>2503</th>\n      <td>true</td>\n      <td>[{'@_fa': 'true', '@ref': 'self', '@href': 'ht...</td>\n      <td>https://api.elsevier.com/content/abstract/scop...</td>\n      <td>SCOPUS_ID:76349090690</td>\n      <td>2-s2.0-76349090690</td>\n      <td>Preoperative body mass index and outcomes of g...</td>\n      <td>Ogoshi K.</td>\n      <td>Annals of Cancer Research and Therapy</td>\n      <td>13446835</td>\n      <td>NaN</td>\n      <td>...</td>\n      <td>NaN</td>\n      <td>undefined</td>\n      <td>NaN</td>\n      <td>1</td>\n      <td>True</td>\n      <td>{'value': [{'$': 'all'}, {'$': 'publisherfree2...</td>\n      <td>{'value': [{'$': 'All Open Access'}, {'$': 'Br...</td>\n      <td>NaN</td>\n      <td>NaN</td>\n      <td>NaN</td>\n    </tr>\n    <tr>\n      <th>2504</th>\n      <td>true</td>\n      <td>[{'@_fa': 'true', '@ref': 'self', '@href': 'ht...</td>\n      <td>https://api.elsevier.com/content/abstract/scop...</td>\n      <td>SCOPUS_ID:70549087634</td>\n      <td>2-s2.0-70549087634</td>\n      <td>Position of the American Dietetic Association ...</td>\n      <td>NaN</td>\n      <td>Medicina Naturista</td>\n      <td>15763080</td>\n      <td>2386463X</td>\n      <td>...</td>\n      <td>NaN</td>\n      <td>undefined</td>\n      <td>NaN</td>\n      <td>0</td>\n      <td>False</td>\n      <td>NaN</td>\n      <td>NaN</td>\n      <td>NaN</td>\n      <td>NaN</td>\n      <td>NaN</td>\n    </tr>\n    <tr>\n      <th>2505</th>\n      <td>true</td>\n      <td>[{'@_fa': 'true', '@ref': 'self', '@href': 'ht...</td>\n      <td>https://api.elsevier.com/content/abstract/scop...</td>\n      <td>SCOPUS_ID:33646699579</td>\n      <td>2-s2.0-33646699579</td>\n      <td>A Low Fat Diet Rich in Fruits and Vegetables M...</td>\n      <td>Sunny L.</td>\n      <td>Asian Pacific Journal of Cancer Prevention</td>\n      <td>15137368</td>\n      <td>2476762X</td>\n      <td>...</td>\n      <td>NaN</td>\n      <td>undefined</td>\n      <td>NaN</td>\n      <td>0</td>\n      <td>False</td>\n      <td>NaN</td>\n      <td>NaN</td>\n      <td>NaN</td>\n      <td>NaN</td>\n      <td>NaN</td>\n    </tr>\n    <tr>\n      <th>2506</th>\n      <td>true</td>\n      <td>[{'@_fa': 'true', '@ref': 'self', '@href': 'ht...</td>\n      <td>https://api.elsevier.com/content/abstract/scop...</td>\n      <td>SCOPUS_ID:33644834341</td>\n      <td>2-s2.0-33644834341</td>\n      <td>The comparison of the effect of cigarette and ...</td>\n      <td>Kim M.C.</td>\n      <td>Tuberculosis and Respiratory Diseases</td>\n      <td>17383536</td>\n      <td>NaN</td>\n      <td>...</td>\n      <td>NaN</td>\n      <td>undefined</td>\n      <td>NaN</td>\n      <td>1</td>\n      <td>True</td>\n      <td>{'value': [{'$': 'all'}, {'$': 'publisherfree2...</td>\n      <td>{'value': [{'$': 'All Open Access'}, {'$': 'Br...</td>\n      <td>NaN</td>\n      <td>NaN</td>\n      <td>NaN</td>\n    </tr>\n    <tr>\n      <th>2507</th>\n      <td>true</td>\n      <td>[{'@_fa': 'true', '@ref': 'self', '@href': 'ht...</td>\n      <td>https://api.elsevier.com/content/abstract/scop...</td>\n      <td>SCOPUS_ID:23944450185</td>\n      <td>2-s2.0-23944450185</td>\n      <td>Cholesterol lowering effects of nuts compared ...</td>\n      <td>Chisholm A.</td>\n      <td>Nutrition, Metabolism and Cardiovascular Diseases</td>\n      <td>09394753</td>\n      <td>NaN</td>\n      <td>...</td>\n      <td>HRC</td>\n      <td>undefined</td>\n      <td>University of Otago</td>\n      <td>0</td>\n      <td>False</td>\n      <td>NaN</td>\n      <td>NaN</td>\n      <td>S0939475305000682</td>\n      <td>NaN</td>\n      <td>NaN</td>\n    </tr>\n    <tr>\n      <th>2508</th>\n      <td>true</td>\n      <td>[{'@_fa': 'true', '@ref': 'self', '@href': 'ht...</td>\n      <td>https://api.elsevier.com/content/abstract/scop...</td>\n      <td>SCOPUS_ID:21944452085</td>\n      <td>2-s2.0-21944452085</td>\n      <td>Risk of overweight and obesity among semiveget...</td>\n      <td>Newby P.K.</td>\n      <td>American Journal of Clinical Nutrition</td>\n      <td>00029165</td>\n      <td>NaN</td>\n      <td>...</td>\n      <td>NaN</td>\n      <td>undefined</td>\n      <td>NaN</td>\n      <td>1</td>\n      <td>True</td>\n      <td>{'value': [{'$': 'all'}, {'$': 'publisherfree2...</td>\n      <td>{'value': [{'$': 'All Open Access'}, {'$': 'Br...</td>\n      <td>NaN</td>\n      <td>NaN</td>\n      <td>NaN</td>\n    </tr>\n    <tr>\n      <th>2509</th>\n      <td>true</td>\n      <td>[{'@_fa': 'true', '@ref': 'self', '@href': 'ht...</td>\n      <td>https://api.elsevier.com/content/abstract/scop...</td>\n      <td>SCOPUS_ID:21444455990</td>\n      <td>2-s2.0-21444455990</td>\n      <td>Electrical muscle stimulation acutely mimics e...</td>\n      <td>Poole R.B.</td>\n      <td>Diabetes, Obesity and Metabolism</td>\n      <td>14628902</td>\n      <td>NaN</td>\n      <td>...</td>\n      <td>NaN</td>\n      <td>undefined</td>\n      <td>NaN</td>\n      <td>0</td>\n      <td>False</td>\n      <td>NaN</td>\n      <td>NaN</td>\n      <td>NaN</td>\n      <td>NaN</td>\n      <td>NaN</td>\n    </tr>\n    <tr>\n      <th>2510</th>\n      <td>true</td>\n      <td>[{'@_fa': 'true', '@ref': 'self', '@href': 'ht...</td>\n      <td>https://api.elsevier.com/content/abstract/scop...</td>\n      <td>SCOPUS_ID:19444376550</td>\n      <td>2-s2.0-19444376550</td>\n      <td>Iodine-deficient vegetarians: A hypothetical p...</td>\n      <td>Fields C.</td>\n      <td>Regulatory Toxicology and Pharmacology</td>\n      <td>02732300</td>\n      <td>NaN</td>\n      <td>...</td>\n      <td>NaN</td>\n      <td>undefined</td>\n      <td>NaN</td>\n      <td>0</td>\n      <td>False</td>\n      <td>NaN</td>\n      <td>NaN</td>\n      <td>S0273230005000188</td>\n      <td>NaN</td>\n      <td>NaN</td>\n    </tr>\n    <tr>\n      <th>2511</th>\n      <td>true</td>\n      <td>[{'@_fa': 'true', '@ref': 'self', '@href': 'ht...</td>\n      <td>https://api.elsevier.com/content/abstract/scop...</td>\n      <td>SCOPUS_ID:18844448217</td>\n      <td>2-s2.0-18844448217</td>\n      <td>Selective exposure reporting and Medline index...</td>\n      <td>Wieland S.</td>\n      <td>Journal of Clinical Epidemiology</td>\n      <td>08954356</td>\n      <td>NaN</td>\n      <td>...</td>\n      <td>NaN</td>\n      <td>undefined</td>\n      <td>NaN</td>\n      <td>0</td>\n      <td>False</td>\n      <td>NaN</td>\n      <td>NaN</td>\n      <td>S0895435604003294</td>\n      <td>NaN</td>\n      <td>NaN</td>\n    </tr>\n    <tr>\n      <th>2512</th>\n      <td>true</td>\n      <td>[{'@_fa': 'true', '@ref': 'self', '@href': 'ht...</td>\n      <td>https://api.elsevier.com/content/abstract/scop...</td>\n      <td>SCOPUS_ID:18844441172</td>\n      <td>2-s2.0-18844441172</td>\n      <td>Nutritional status and lipid profile of postme...</td>\n      <td>De Oliveira A.</td>\n      <td>Arquivos Brasileiros de Cardiologia</td>\n      <td>0066782X</td>\n      <td>NaN</td>\n      <td>...</td>\n      <td>NaN</td>\n      <td>undefined</td>\n      <td>NaN</td>\n      <td>1</td>\n      <td>True</td>\n      <td>{'value': [{'$': 'all'}, {'$': 'publisherfullg...</td>\n      <td>{'value': [{'$': 'All Open Access'}, {'$': 'Go...</td>\n      <td>NaN</td>\n      <td>NaN</td>\n      <td>NaN</td>\n    </tr>\n    <tr>\n      <th>2513</th>\n      <td>true</td>\n      <td>[{'@_fa': 'true', '@ref': 'self', '@href': 'ht...</td>\n      <td>https://api.elsevier.com/content/abstract/scop...</td>\n      <td>SCOPUS_ID:15944397278</td>\n      <td>2-s2.0-15944397278</td>\n      <td>Consumption of fruit and vegetables and cardio...</td>\n      <td>Dauchet L.</td>\n      <td>Cahiers de Nutrition et de Dietetique</td>\n      <td>00079960</td>\n      <td>NaN</td>\n      <td>...</td>\n      <td>NaN</td>\n      <td>undefined</td>\n      <td>NaN</td>\n      <td>0</td>\n      <td>False</td>\n      <td>NaN</td>\n      <td>NaN</td>\n      <td>S000799600580464X</td>\n      <td>NaN</td>\n      <td>NaN</td>\n    </tr>\n    <tr>\n      <th>2514</th>\n      <td>true</td>\n      <td>[{'@_fa': 'true', '@ref': 'self', '@href': 'ht...</td>\n      <td>https://api.elsevier.com/content/abstract/scop...</td>\n      <td>SCOPUS_ID:14744299248</td>\n      <td>2-s2.0-14744299248</td>\n      <td>A comparison of first event coronary heart dis...</td>\n      <td>Fraser G.E.</td>\n      <td>Journal of Nutrition, Health and Aging</td>\n      <td>12797707</td>\n      <td>NaN</td>\n      <td>...</td>\n      <td>NHLBI</td>\n      <td>R01HL021906</td>\n      <td>National Heart, Lung, and Blood Institute</td>\n      <td>0</td>\n      <td>False</td>\n      <td>NaN</td>\n      <td>NaN</td>\n      <td>NaN</td>\n      <td>NaN</td>\n      <td>NaN</td>\n    </tr>\n    <tr>\n      <th>2515</th>\n      <td>true</td>\n      <td>[{'@_fa': 'true', '@ref': 'self', '@href': 'ht...</td>\n      <td>https://api.elsevier.com/content/abstract/scop...</td>\n      <td>SCOPUS_ID:11144251591</td>\n      <td>2-s2.0-11144251591</td>\n      <td>Effect of diabetes and hypertension on obesity...</td>\n      <td>Livingston E.</td>\n      <td>Surgery</td>\n      <td>00396060</td>\n      <td>NaN</td>\n      <td>...</td>\n      <td>NaN</td>\n      <td>undefined</td>\n      <td>NaN</td>\n      <td>0</td>\n      <td>False</td>\n      <td>NaN</td>\n      <td>NaN</td>\n      <td>S0039606004003228</td>\n      <td>NaN</td>\n      <td>NaN</td>\n    </tr>\n    <tr>\n      <th>2516</th>\n      <td>true</td>\n      <td>[{'@_fa': 'true', '@ref': 'self', '@href': 'ht...</td>\n      <td>https://api.elsevier.com/content/abstract/scop...</td>\n      <td>SCOPUS_ID:39749160479</td>\n      <td>2-s2.0-39749160479</td>\n      <td>Soy and the prevention of lifestyle-related di...</td>\n      <td>Zhou J.</td>\n      <td>Clinical and Experimental Pharmacology and Phy...</td>\n      <td>03051870</td>\n      <td>14401681</td>\n      <td>...</td>\n      <td>NaN</td>\n      <td>undefined</td>\n      <td>NaN</td>\n      <td>0</td>\n      <td>False</td>\n      <td>NaN</td>\n      <td>NaN</td>\n      <td>NaN</td>\n      <td>NaN</td>\n      <td>NaN</td>\n    </tr>\n    <tr>\n      <th>2517</th>\n      <td>true</td>\n      <td>[{'@_fa': 'true', '@ref': 'self', '@href': 'ht...</td>\n      <td>https://api.elsevier.com/content/abstract/scop...</td>\n      <td>SCOPUS_ID:13544277038</td>\n      <td>2-s2.0-13544277038</td>\n      <td>Evaluation of a nutritional intervention to re...</td>\n      <td>Martínez O S.</td>\n      <td>Revista Medica de Chile</td>\n      <td>00349887</td>\n      <td>NaN</td>\n      <td>...</td>\n      <td>NaN</td>\n      <td>undefined</td>\n      <td>NaN</td>\n      <td>0</td>\n      <td>False</td>\n      <td>NaN</td>\n      <td>NaN</td>\n      <td>NaN</td>\n      <td>NaN</td>\n      <td>NaN</td>\n    </tr>\n    <tr>\n      <th>2518</th>\n      <td>true</td>\n      <td>[{'@_fa': 'true', '@ref': 'self', '@href': 'ht...</td>\n      <td>https://api.elsevier.com/content/abstract/scop...</td>\n      <td>SCOPUS_ID:11844304197</td>\n      <td>2-s2.0-11844304197</td>\n      <td>Improved Diet Quality with Peanut Consumption</td>\n      <td>Griel A.E.</td>\n      <td>Journal of the American College of Nutrition</td>\n      <td>07315724</td>\n      <td>15411087</td>\n      <td>...</td>\n      <td>NaN</td>\n      <td>undefined</td>\n      <td>NaN</td>\n      <td>0</td>\n      <td>False</td>\n      <td>NaN</td>\n      <td>NaN</td>\n      <td>NaN</td>\n      <td>NaN</td>\n      <td>NaN</td>\n    </tr>\n    <tr>\n      <th>2519</th>\n      <td>true</td>\n      <td>[{'@_fa': 'true', '@ref': 'self', '@href': 'ht...</td>\n      <td>https://api.elsevier.com/content/abstract/scop...</td>\n      <td>SCOPUS_ID:11844298484</td>\n      <td>2-s2.0-11844298484</td>\n      <td>A Review of Scientific Research and Recommenda...</td>\n      <td>Kritchevsky S.B.</td>\n      <td>Journal of the American College of Nutrition</td>\n      <td>07315724</td>\n      <td>15411087</td>\n      <td>...</td>\n      <td>NaN</td>\n      <td>undefined</td>\n      <td>NaN</td>\n      <td>0</td>\n      <td>False</td>\n      <td>NaN</td>\n      <td>NaN</td>\n      <td>NaN</td>\n      <td>NaN</td>\n      <td>NaN</td>\n    </tr>\n    <tr>\n      <th>2520</th>\n      <td>true</td>\n      <td>[{'@_fa': 'true', '@ref': 'self', '@href': 'ht...</td>\n      <td>https://api.elsevier.com/content/abstract/scop...</td>\n      <td>SCOPUS_ID:10444261976</td>\n      <td>2-s2.0-10444261976</td>\n      <td>Dietary risk factors for the development of in...</td>\n      <td>Pattison D.</td>\n      <td>Arthritis and Rheumatism</td>\n      <td>00043591</td>\n      <td>NaN</td>\n      <td>...</td>\n      <td>NaN</td>\n      <td>undefined</td>\n      <td>NaN</td>\n      <td>0</td>\n      <td>False</td>\n      <td>NaN</td>\n      <td>NaN</td>\n      <td>NaN</td>\n      <td>NaN</td>\n      <td>NaN</td>\n    </tr>\n    <tr>\n      <th>2521</th>\n      <td>true</td>\n      <td>[{'@_fa': 'true', '@ref': 'self', '@href': 'ht...</td>\n      <td>https://api.elsevier.com/content/abstract/scop...</td>\n      <td>SCOPUS_ID:12344301273</td>\n      <td>2-s2.0-12344301273</td>\n      <td>The role of Vitamin D &lt;inf&gt;3&lt;/inf&gt; metabolism ...</td>\n      <td>Lou Y.R.</td>\n      <td>Journal of Steroid Biochemistry and Molecular ...</td>\n      <td>09600760</td>\n      <td>NaN</td>\n      <td>...</td>\n      <td>NaN</td>\n      <td>undefined</td>\n      <td>NaN</td>\n      <td>0</td>\n      <td>False</td>\n      <td>NaN</td>\n      <td>NaN</td>\n      <td>S0960076004003723</td>\n      <td>NaN</td>\n      <td>NaN</td>\n    </tr>\n    <tr>\n      <th>2522</th>\n      <td>true</td>\n      <td>[{'@_fa': 'true', '@ref': 'self', '@href': 'ht...</td>\n      <td>https://api.elsevier.com/content/abstract/scop...</td>\n      <td>SCOPUS_ID:10844234765</td>\n      <td>2-s2.0-10844234765</td>\n      <td>A prospective study of diet and prostate cance...</td>\n      <td>Allen N.E.</td>\n      <td>Cancer Causes and Control</td>\n      <td>09575243</td>\n      <td>NaN</td>\n      <td>...</td>\n      <td>NaN</td>\n      <td>14-78</td>\n      <td>National Academy of Sciences</td>\n      <td>0</td>\n      <td>False</td>\n      <td>NaN</td>\n      <td>NaN</td>\n      <td>NaN</td>\n      <td>NaN</td>\n      <td>NaN</td>\n    </tr>\n    <tr>\n      <th>2523</th>\n      <td>true</td>\n      <td>[{'@_fa': 'true', '@ref': 'self', '@href': 'ht...</td>\n      <td>https://api.elsevier.com/content/abstract/scop...</td>\n      <td>SCOPUS_ID:5444258710</td>\n      <td>2-s2.0-5444258710</td>\n      <td>Health benefits of soy isoflavonoids and strat...</td>\n      <td>McCue P.</td>\n      <td>Critical Reviews in Food Science and Nutrition</td>\n      <td>10408398</td>\n      <td>NaN</td>\n      <td>...</td>\n      <td>NaN</td>\n      <td>undefined</td>\n      <td>NaN</td>\n      <td>0</td>\n      <td>False</td>\n      <td>NaN</td>\n      <td>NaN</td>\n      <td>NaN</td>\n      <td>NaN</td>\n      <td>NaN</td>\n    </tr>\n    <tr>\n      <th>2524</th>\n      <td>true</td>\n      <td>[{'@_fa': 'true', '@ref': 'self', '@href': 'ht...</td>\n      <td>https://api.elsevier.com/content/abstract/scop...</td>\n      <td>SCOPUS_ID:6344249103</td>\n      <td>2-s2.0-6344249103</td>\n      <td>The UK Women's Cohort Study: Comparison of veg...</td>\n      <td>Cade J.</td>\n      <td>Public Health Nutrition</td>\n      <td>13689800</td>\n      <td>NaN</td>\n      <td>...</td>\n      <td>WCRF</td>\n      <td>undefined</td>\n      <td>World Cancer Research Fund</td>\n      <td>1</td>\n      <td>True</td>\n      <td>{'value': [{'$': 'all'}, {'$': 'publisherfree2...</td>\n      <td>{'value': [{'$': 'All Open Access'}, {'$': 'Br...</td>\n      <td>NaN</td>\n      <td>NaN</td>\n      <td>NaN</td>\n    </tr>\n  </tbody>\n</table>\n<p>30 rows × 37 columns</p>\n</div>"
     },
     "execution_count": 159,
     "metadata": {},
     "output_type": "execute_result"
    }
   ],
   "source": [
    "entries_df[entries_df[\"subtypeDescription\"]==\"Article\"].tail(30)"
   ],
   "metadata": {
    "collapsed": false,
    "pycharm": {
     "name": "#%%\n"
    },
    "ExecuteTime": {
     "end_time": "2023-12-20T23:47:35.526549Z",
     "start_time": "2023-12-20T23:47:35.490348Z"
    }
   }
  },
  {
   "cell_type": "code",
   "execution_count": 160,
   "outputs": [
    {
     "data": {
      "text/plain": "50"
     },
     "execution_count": 160,
     "metadata": {},
     "output_type": "execute_result"
    }
   ],
   "source": [
    "entries_df[entries_df[\"dc:description\"].notnull()][\"dc:description\"].apply(lambda x: x.count(\"interpret\")).sum()"
   ],
   "metadata": {
    "collapsed": false,
    "ExecuteTime": {
     "end_time": "2023-12-20T23:47:48.765558Z",
     "start_time": "2023-12-20T23:47:48.750384Z"
    }
   }
  },
  {
   "cell_type": "code",
   "execution_count": 161,
   "outputs": [
    {
     "data": {
      "text/plain": "99"
     },
     "execution_count": 161,
     "metadata": {},
     "output_type": "execute_result"
    }
   ],
   "source": [
    "entries_df[entries_df[\"dc:description\"].notnull()][\"dc:description\"].apply(lambda x: x.count(\"quantitative\")).sum()"
   ],
   "metadata": {
    "collapsed": false,
    "ExecuteTime": {
     "end_time": "2023-12-20T23:47:49.790648Z",
     "start_time": "2023-12-20T23:47:49.775654Z"
    }
   }
  },
  {
   "cell_type": "code",
   "execution_count": null,
   "outputs": [],
   "source": [
    "entries_df[\"dc:description\"].apply(re)"
   ],
   "metadata": {
    "collapsed": false
   }
  },
  {
   "cell_type": "code",
   "execution_count": 100,
   "outputs": [
    {
     "data": {
      "text/plain": "<Response [500]>"
     },
     "execution_count": 100,
     "metadata": {},
     "output_type": "execute_result"
    }
   ],
   "source": [
    "resp = requests.get(\"https://api.elsevier.com/content/abstract/scopus_id/85034222301%29&view=COMPLETE&field=dc:title,dc:description,prism:doi\", headers=headers)\n",
    "resp"
   ],
   "metadata": {
    "collapsed": false,
    "ExecuteTime": {
     "end_time": "2023-12-20T23:07:12.726951Z",
     "start_time": "2023-12-20T23:07:12.328875Z"
    }
   }
  },
  {
   "cell_type": "code",
   "execution_count": 99,
   "outputs": [
    {
     "data": {
      "text/plain": "{'abstracts-retrieval-response': {'affiliation': [{'affiliation-city': 'Pretoria',\n    'affilname': 'University of Pretoria',\n    'affiliation-country': 'South Africa'},\n   {'affiliation-city': 'Amsterdam',\n    'affilname': 'Vrije Universiteit Amsterdam',\n    'affiliation-country': 'Netherlands'},\n   {'affiliation-city': 'Utrecht',\n    'affilname': 'Universiteit Utrecht',\n    'affiliation-country': 'Netherlands'}],\n  'coredata': {'srctype': 'j',\n   'prism:issueIdentifier': '2',\n   'eid': '2-s2.0-85034222301',\n   'prism:coverDate': '2016-01-01',\n   'prism:aggregationType': 'Journal',\n   'prism:url': 'https://api.elsevier.com/content/abstract/scopus_id/85034222301',\n   'subtypeDescription': 'Article',\n   'dc:creator': {'author': [{'ce:given-name': 'Peter-Ben',\n      'preferred-name': {'ce:given-name': 'Peter Ben',\n       'ce:initials': 'P.B.',\n       'ce:surname': 'Smit',\n       'ce:indexed-name': 'Smit P.B.'},\n      '@seq': '1',\n      'ce:initials': 'P.-B.',\n      '@_fa': 'true',\n      'affiliation': [{'@id': '60008734',\n        '@href': 'https://api.elsevier.com/content/affiliation/affiliation_id/60008734'},\n       {'@id': '60007989',\n        '@href': 'https://api.elsevier.com/content/affiliation/affiliation_id/60007989'},\n       {'@id': '60021902',\n        '@href': 'https://api.elsevier.com/content/affiliation/affiliation_id/60021902'}],\n      'ce:surname': 'Smit',\n      '@auid': '36081054700',\n      'author-url': 'https://api.elsevier.com/content/author/author_id/36081054700',\n      'ce:indexed-name': 'Smit P.-B.'}]},\n   'link': [{'@_fa': 'true',\n     '@rel': 'self',\n     '@href': 'https://api.elsevier.com/content/abstract/scopus_id/85034222301'},\n    {'@_fa': 'true',\n     '@rel': 'scopus',\n     '@href': 'https://www.scopus.com/inward/record.uri?partnerID=HzOxMe3b&scp=85034222301&origin=inward'},\n    {'@_fa': 'true',\n     '@rel': 'scopus-citedby',\n     '@href': 'https://www.scopus.com/inward/citedby.uri?partnerID=HzOxMe3b&scp=85034222301&origin=inward'}],\n   'prism:publicationName': 'Neotestamentica',\n   'source-id': '21100212127',\n   'citedby-count': '1',\n   'prism:volume': '50',\n   'subtype': 'ar',\n   'prism:pageRange': '327-351',\n   'dc:title': 'The ritual (de) construction of masculinity in Mark 6 A methodological exploration on the interface of gender and ritual studies',\n   'prism:endingPage': '351',\n   'openaccess': '2',\n   'openaccessFlag': None,\n   'prism:doi': '10.1353/neo.2016.0049',\n   'prism:issn': '25184628 02548356',\n   'prism:startingPage': '327',\n   'dc:identifier': 'SCOPUS_ID:85034222301',\n   'dc:publisher': 'New Testament Society of South Africa'}}}"
     },
     "execution_count": 99,
     "metadata": {},
     "output_type": "execute_result"
    }
   ],
   "source": [
    "resp.json()"
   ],
   "metadata": {
    "collapsed": false,
    "ExecuteTime": {
     "end_time": "2023-12-20T23:04:05.879315Z",
     "start_time": "2023-12-20T23:04:05.873501Z"
    }
   }
  },
  {
   "cell_type": "code",
   "execution_count": 96,
   "outputs": [],
   "source": [
    "entries_df.drop(columns=['@_fa', 'link', 'freetoread', 'freetoreadLabel'], inplace=True)"
   ],
   "metadata": {
    "collapsed": false,
    "pycharm": {
     "name": "#%%\n"
    }
   }
  },
  {
   "cell_type": "code",
   "execution_count": 99,
   "outputs": [],
   "source": [
    "entries_df['author-count'] = entries_df['author-count'].apply(lambda x: int(x[\"@total\"]))"
   ],
   "metadata": {
    "collapsed": false,
    "pycharm": {
     "name": "#%%\n"
    }
   }
  },
  {
   "cell_type": "code",
   "execution_count": 105,
   "outputs": [],
   "source": [
    "def extract_affiliation_names(x):\n",
    "    try:\n",
    "        return [el[\"affilname\"] for el in x]\n",
    "    except:\n",
    "        []\n",
    "entries_df[\"affiliation_simple\"] = entries_df[\"affiliation\"].apply(extract_affiliation_names)"
   ],
   "metadata": {
    "collapsed": false,
    "pycharm": {
     "name": "#%%\n"
    }
   }
  },
  {
   "cell_type": "code",
   "execution_count": 106,
   "outputs": [],
   "source": [
    "set_with_dataframe(mops_data.add_worksheet(\"entries_df_v3\", 1,1), entries_df)"
   ],
   "metadata": {
    "collapsed": false,
    "pycharm": {
     "name": "#%%\n"
    }
   }
  },
  {
   "cell_type": "code",
   "execution_count": 107,
   "outputs": [
    {
     "data": {
      "text/plain": "Index(['prism:url', 'dc:identifier', 'eid', 'dc:title', 'dc:creator',\n       'prism:publicationName', 'prism:eIssn', 'prism:volume',\n       'prism:issueIdentifier', 'prism:pageRange', 'prism:coverDate',\n       'prism:coverDisplayDate', 'prism:doi', 'dc:description',\n       'citedby-count', 'affiliation', 'prism:aggregationType', 'subtype',\n       'subtypeDescription', 'author-count', 'author', 'authkeywords',\n       'article-number', 'source-id', 'fund-no', 'openaccess',\n       'openaccessFlag', 'prism:issn', 'pii', 'fund-acr', 'fund-sponsor',\n       'prism:isbn', 'pubmed-id', 'affiliation_simple'],\n      dtype='object')"
     },
     "execution_count": 107,
     "metadata": {},
     "output_type": "execute_result"
    }
   ],
   "source": [
    "entries_df.columns"
   ],
   "metadata": {
    "collapsed": false,
    "pycharm": {
     "name": "#%%\n"
    }
   }
  },
  {
   "cell_type": "markdown",
   "source": [
    "* 'dc:title' - title\n",
    "* 'dc:creator' - author\n",
    "* 'prism:publicationName' - name of the journal or of an volume\n",
    "* 'prism:coverDate' - date of publication\n",
    "* 'dc:description' - abstract\n",
    "* 'subtypeDescription' - type of the entry (i,e, either Article or book chapter etc...)\n",
    "* 'author-count' - number of authors\n",
    "* 'author' - nested data containing additional information about all authors -> needs to be explored in more detail\n",
    "* 'affiliation_simple' - a list of all mentioned affiliations"
   ],
   "metadata": {
    "collapsed": false,
    "pycharm": {
     "name": "#%% md\n"
    }
   }
  },
  {
   "cell_type": "markdown",
   "source": [
    "entries_df.columns\n"
   ],
   "metadata": {
    "collapsed": false,
    "pycharm": {
     "name": "#%% md\n"
    }
   }
  },
  {
   "cell_type": "code",
   "execution_count": null,
   "outputs": [],
   "source": [
    "entries_df.columns\n"
   ],
   "metadata": {
    "collapsed": false,
    "pycharm": {
     "name": "#%%\n"
    }
   }
  },
  {
   "cell_type": "markdown",
   "source": [
    "# Simple explorations"
   ],
   "metadata": {
    "collapsed": false,
    "pycharm": {
     "name": "#%% md\n"
    }
   }
  },
  {
   "cell_type": "code",
   "execution_count": 108,
   "outputs": [
    {
     "data": {
      "text/plain": "                                              prism:url  \\\n10    https://api.elsevier.com/content/abstract/scop...   \n24    https://api.elsevier.com/content/abstract/scop...   \n55    https://api.elsevier.com/content/abstract/scop...   \n82    https://api.elsevier.com/content/abstract/scop...   \n89    https://api.elsevier.com/content/abstract/scop...   \n...                                                 ...   \n1039  https://api.elsevier.com/content/abstract/scop...   \n1045  https://api.elsevier.com/content/abstract/scop...   \n1064  https://api.elsevier.com/content/abstract/scop...   \n1066  https://api.elsevier.com/content/abstract/scop...   \n1071  https://api.elsevier.com/content/abstract/scop...   \n\n              dc:identifier                 eid  \\\n10    SCOPUS_ID:85126848614  2-s2.0-85126848614   \n24    SCOPUS_ID:85127816783  2-s2.0-85127816783   \n55    SCOPUS_ID:85099398166  2-s2.0-85099398166   \n82    SCOPUS_ID:85111726701  2-s2.0-85111726701   \n89    SCOPUS_ID:85105631267  2-s2.0-85105631267   \n...                     ...                 ...   \n1039   SCOPUS_ID:1542463682   2-s2.0-1542463682   \n1045  SCOPUS_ID:84953959083  2-s2.0-84953959083   \n1064   SCOPUS_ID:0020629376   2-s2.0-0020629376   \n1066   SCOPUS_ID:0020051029   2-s2.0-0020051029   \n1071  SCOPUS_ID:84952511773  2-s2.0-84952511773   \n\n                                               dc:title       dc:creator  \\\n10    Discourse-Rhetorical Strategies of Pauline Epi...     Chidume S.N.   \n24    Saint Paul’s Thorn in the Flesh: a Dermatologi...     Pascual A.M.   \n55    How could the spirit not be secular? Dialogue ...        Rohmer C.   \n82    Onesimus, philemon’s runaway slave boy: A brie...       Manus C.U.   \n89    Jesus as a socially (ir)responsible innovator:...         Woods C.   \n...                                                 ...              ...   \n1039  The ethic of caring: the moral response to suf...      Hitchens E.   \n1045  Testimonium spiritus sancti—an example of bern...  Bell T.M.M.A.C.   \n1064                       Teaching Humanistic Medicine    Taegtmeyer H.   \n1066  Death after trauma involving the maxillofacial...   Zachariades N.   \n1071  Saint paul and divorce: Divorce counseling for...      Barnhart J.   \n\n                             prism:publicationName prism:eIssn prism:volume  \\\n10                                       SAGE Open    21582440           12   \n24                               Scientia et Fides    23535636           10   \n55              Etudes Theologiques et Religieuses    22729011           95   \n82    HTS Teologiese Studies / Theological Studies    20728050           77   \n89        International Journal of Public Theology    15697320           15   \n...                                            ...         ...          ...   \n1039                    Christian scholar's review         NaN           23   \n1045                                     Bijdragen         NaN           53   \n1064               New England Journal of Medicine    15334406          309   \n1066              Journal of Maxillofacial Surgery         NaN           10   \n1071                            Journal of Divorce         NaN            1   \n\n     prism:issueIdentifier prism:pageRange  ...    fund-no openaccess  \\\n10                       1            None  ...  undefined          1   \n24                       1            9-27  ...  undefined          1   \n55                       4         625-644  ...  undefined          0   \n82                       1            None  ...  undefined          1   \n89                       1         118-142  ...  undefined          0   \n...                    ...             ...  ...        ...        ...   \n1039                     3         307-317  ...  undefined          0   \n1045                     1           62-72  ...  undefined          0   \n1064                    14         860-862  ...  undefined          0   \n1066                     C         123-125  ...  undefined          0   \n1071                     2         141-151  ...  undefined          0   \n\n     openaccessFlag prism:issn                pii fund-acr fund-sponsor  \\\n10             True        NaN                NaN      NaN          NaN   \n24             True   23007648                NaN      NaN          NaN   \n55            False   00142239                NaN      NaN          NaN   \n82             True   02599422                NaN      NaN          NaN   \n89            False   18725171                NaN      NaN          NaN   \n...             ...        ...                ...      ...          ...   \n1039          False   00172251                NaN      NaN          NaN   \n1045          False   00062278                NaN      NaN          NaN   \n1064          False   00284793                NaN      NaN          NaN   \n1066          False   03010503  S0301050382800246      NaN          NaN   \n1071          False   01474022                NaN      NaN          NaN   \n\n     prism:isbn pubmed-id                                 affiliation_simple  \n10          NaN       NaN                            [University of Nigeria]  \n24          NaN       NaN  [Hospital Universitari de Bellvitge, Universid...  \n55          NaN       NaN                           [Faculté de Montpellier]  \n82          NaN       NaN  [University of Pretoria, National University o...  \n89          NaN       NaN  [The University of Auckland Business School, F...  \n...         ...       ...                                                ...  \n1039        NaN  14628772                       [Seattle Pacific University]  \n1045        NaN       NaN  [Universiteit van Amsterdam, Dutch Luther Cons...  \n1064        NaN   6888478  [University of Texas Health Science Center at ...  \n1066        NaN   6954224                                     [KAT Hospital]  \n1071        NaN       NaN                        [University of North Texas]  \n\n[77 rows x 34 columns]",
      "text/html": "<div>\n<style scoped>\n    .dataframe tbody tr th:only-of-type {\n        vertical-align: middle;\n    }\n\n    .dataframe tbody tr th {\n        vertical-align: top;\n    }\n\n    .dataframe thead th {\n        text-align: right;\n    }\n</style>\n<table border=\"1\" class=\"dataframe\">\n  <thead>\n    <tr style=\"text-align: right;\">\n      <th></th>\n      <th>prism:url</th>\n      <th>dc:identifier</th>\n      <th>eid</th>\n      <th>dc:title</th>\n      <th>dc:creator</th>\n      <th>prism:publicationName</th>\n      <th>prism:eIssn</th>\n      <th>prism:volume</th>\n      <th>prism:issueIdentifier</th>\n      <th>prism:pageRange</th>\n      <th>...</th>\n      <th>fund-no</th>\n      <th>openaccess</th>\n      <th>openaccessFlag</th>\n      <th>prism:issn</th>\n      <th>pii</th>\n      <th>fund-acr</th>\n      <th>fund-sponsor</th>\n      <th>prism:isbn</th>\n      <th>pubmed-id</th>\n      <th>affiliation_simple</th>\n    </tr>\n  </thead>\n  <tbody>\n    <tr>\n      <th>10</th>\n      <td>https://api.elsevier.com/content/abstract/scop...</td>\n      <td>SCOPUS_ID:85126848614</td>\n      <td>2-s2.0-85126848614</td>\n      <td>Discourse-Rhetorical Strategies of Pauline Epi...</td>\n      <td>Chidume S.N.</td>\n      <td>SAGE Open</td>\n      <td>21582440</td>\n      <td>12</td>\n      <td>1</td>\n      <td>None</td>\n      <td>...</td>\n      <td>undefined</td>\n      <td>1</td>\n      <td>True</td>\n      <td>NaN</td>\n      <td>NaN</td>\n      <td>NaN</td>\n      <td>NaN</td>\n      <td>NaN</td>\n      <td>NaN</td>\n      <td>[University of Nigeria]</td>\n    </tr>\n    <tr>\n      <th>24</th>\n      <td>https://api.elsevier.com/content/abstract/scop...</td>\n      <td>SCOPUS_ID:85127816783</td>\n      <td>2-s2.0-85127816783</td>\n      <td>Saint Paul’s Thorn in the Flesh: a Dermatologi...</td>\n      <td>Pascual A.M.</td>\n      <td>Scientia et Fides</td>\n      <td>23535636</td>\n      <td>10</td>\n      <td>1</td>\n      <td>9-27</td>\n      <td>...</td>\n      <td>undefined</td>\n      <td>1</td>\n      <td>True</td>\n      <td>23007648</td>\n      <td>NaN</td>\n      <td>NaN</td>\n      <td>NaN</td>\n      <td>NaN</td>\n      <td>NaN</td>\n      <td>[Hospital Universitari de Bellvitge, Universid...</td>\n    </tr>\n    <tr>\n      <th>55</th>\n      <td>https://api.elsevier.com/content/abstract/scop...</td>\n      <td>SCOPUS_ID:85099398166</td>\n      <td>2-s2.0-85099398166</td>\n      <td>How could the spirit not be secular? Dialogue ...</td>\n      <td>Rohmer C.</td>\n      <td>Etudes Theologiques et Religieuses</td>\n      <td>22729011</td>\n      <td>95</td>\n      <td>4</td>\n      <td>625-644</td>\n      <td>...</td>\n      <td>undefined</td>\n      <td>0</td>\n      <td>False</td>\n      <td>00142239</td>\n      <td>NaN</td>\n      <td>NaN</td>\n      <td>NaN</td>\n      <td>NaN</td>\n      <td>NaN</td>\n      <td>[Faculté de Montpellier]</td>\n    </tr>\n    <tr>\n      <th>82</th>\n      <td>https://api.elsevier.com/content/abstract/scop...</td>\n      <td>SCOPUS_ID:85111726701</td>\n      <td>2-s2.0-85111726701</td>\n      <td>Onesimus, philemon’s runaway slave boy: A brie...</td>\n      <td>Manus C.U.</td>\n      <td>HTS Teologiese Studies / Theological Studies</td>\n      <td>20728050</td>\n      <td>77</td>\n      <td>1</td>\n      <td>None</td>\n      <td>...</td>\n      <td>undefined</td>\n      <td>1</td>\n      <td>True</td>\n      <td>02599422</td>\n      <td>NaN</td>\n      <td>NaN</td>\n      <td>NaN</td>\n      <td>NaN</td>\n      <td>NaN</td>\n      <td>[University of Pretoria, National University o...</td>\n    </tr>\n    <tr>\n      <th>89</th>\n      <td>https://api.elsevier.com/content/abstract/scop...</td>\n      <td>SCOPUS_ID:85105631267</td>\n      <td>2-s2.0-85105631267</td>\n      <td>Jesus as a socially (ir)responsible innovator:...</td>\n      <td>Woods C.</td>\n      <td>International Journal of Public Theology</td>\n      <td>15697320</td>\n      <td>15</td>\n      <td>1</td>\n      <td>118-142</td>\n      <td>...</td>\n      <td>undefined</td>\n      <td>0</td>\n      <td>False</td>\n      <td>18725171</td>\n      <td>NaN</td>\n      <td>NaN</td>\n      <td>NaN</td>\n      <td>NaN</td>\n      <td>NaN</td>\n      <td>[The University of Auckland Business School, F...</td>\n    </tr>\n    <tr>\n      <th>...</th>\n      <td>...</td>\n      <td>...</td>\n      <td>...</td>\n      <td>...</td>\n      <td>...</td>\n      <td>...</td>\n      <td>...</td>\n      <td>...</td>\n      <td>...</td>\n      <td>...</td>\n      <td>...</td>\n      <td>...</td>\n      <td>...</td>\n      <td>...</td>\n      <td>...</td>\n      <td>...</td>\n      <td>...</td>\n      <td>...</td>\n      <td>...</td>\n      <td>...</td>\n      <td>...</td>\n    </tr>\n    <tr>\n      <th>1039</th>\n      <td>https://api.elsevier.com/content/abstract/scop...</td>\n      <td>SCOPUS_ID:1542463682</td>\n      <td>2-s2.0-1542463682</td>\n      <td>The ethic of caring: the moral response to suf...</td>\n      <td>Hitchens E.</td>\n      <td>Christian scholar's review</td>\n      <td>NaN</td>\n      <td>23</td>\n      <td>3</td>\n      <td>307-317</td>\n      <td>...</td>\n      <td>undefined</td>\n      <td>0</td>\n      <td>False</td>\n      <td>00172251</td>\n      <td>NaN</td>\n      <td>NaN</td>\n      <td>NaN</td>\n      <td>NaN</td>\n      <td>14628772</td>\n      <td>[Seattle Pacific University]</td>\n    </tr>\n    <tr>\n      <th>1045</th>\n      <td>https://api.elsevier.com/content/abstract/scop...</td>\n      <td>SCOPUS_ID:84953959083</td>\n      <td>2-s2.0-84953959083</td>\n      <td>Testimonium spiritus sancti—an example of bern...</td>\n      <td>Bell T.M.M.A.C.</td>\n      <td>Bijdragen</td>\n      <td>NaN</td>\n      <td>53</td>\n      <td>1</td>\n      <td>62-72</td>\n      <td>...</td>\n      <td>undefined</td>\n      <td>0</td>\n      <td>False</td>\n      <td>00062278</td>\n      <td>NaN</td>\n      <td>NaN</td>\n      <td>NaN</td>\n      <td>NaN</td>\n      <td>NaN</td>\n      <td>[Universiteit van Amsterdam, Dutch Luther Cons...</td>\n    </tr>\n    <tr>\n      <th>1064</th>\n      <td>https://api.elsevier.com/content/abstract/scop...</td>\n      <td>SCOPUS_ID:0020629376</td>\n      <td>2-s2.0-0020629376</td>\n      <td>Teaching Humanistic Medicine</td>\n      <td>Taegtmeyer H.</td>\n      <td>New England Journal of Medicine</td>\n      <td>15334406</td>\n      <td>309</td>\n      <td>14</td>\n      <td>860-862</td>\n      <td>...</td>\n      <td>undefined</td>\n      <td>0</td>\n      <td>False</td>\n      <td>00284793</td>\n      <td>NaN</td>\n      <td>NaN</td>\n      <td>NaN</td>\n      <td>NaN</td>\n      <td>6888478</td>\n      <td>[University of Texas Health Science Center at ...</td>\n    </tr>\n    <tr>\n      <th>1066</th>\n      <td>https://api.elsevier.com/content/abstract/scop...</td>\n      <td>SCOPUS_ID:0020051029</td>\n      <td>2-s2.0-0020051029</td>\n      <td>Death after trauma involving the maxillofacial...</td>\n      <td>Zachariades N.</td>\n      <td>Journal of Maxillofacial Surgery</td>\n      <td>NaN</td>\n      <td>10</td>\n      <td>C</td>\n      <td>123-125</td>\n      <td>...</td>\n      <td>undefined</td>\n      <td>0</td>\n      <td>False</td>\n      <td>03010503</td>\n      <td>S0301050382800246</td>\n      <td>NaN</td>\n      <td>NaN</td>\n      <td>NaN</td>\n      <td>6954224</td>\n      <td>[KAT Hospital]</td>\n    </tr>\n    <tr>\n      <th>1071</th>\n      <td>https://api.elsevier.com/content/abstract/scop...</td>\n      <td>SCOPUS_ID:84952511773</td>\n      <td>2-s2.0-84952511773</td>\n      <td>Saint paul and divorce: Divorce counseling for...</td>\n      <td>Barnhart J.</td>\n      <td>Journal of Divorce</td>\n      <td>NaN</td>\n      <td>1</td>\n      <td>2</td>\n      <td>141-151</td>\n      <td>...</td>\n      <td>undefined</td>\n      <td>0</td>\n      <td>False</td>\n      <td>01474022</td>\n      <td>NaN</td>\n      <td>NaN</td>\n      <td>NaN</td>\n      <td>NaN</td>\n      <td>NaN</td>\n      <td>[University of North Texas]</td>\n    </tr>\n  </tbody>\n</table>\n<p>77 rows × 34 columns</p>\n</div>"
     },
     "execution_count": 108,
     "metadata": {},
     "output_type": "execute_result"
    }
   ],
   "source": [
    "entries_df[entries_df[\"author-count\"] > 1]"
   ],
   "metadata": {
    "collapsed": false,
    "pycharm": {
     "name": "#%%\n"
    }
   }
  }
 ],
 "metadata": {
  "kernelspec": {
   "name": "brewkernel",
   "language": "python",
   "display_name": "brewkernel"
  },
  "language_info": {
   "codemirror_mode": {
    "name": "ipython",
    "version": 2
   },
   "file_extension": ".py",
   "mimetype": "text/x-python",
   "name": "python",
   "nbconvert_exporter": "python",
   "pygments_lexer": "ipython2",
   "version": "2.7.6"
  }
 },
 "nbformat": 4,
 "nbformat_minor": 0
}
